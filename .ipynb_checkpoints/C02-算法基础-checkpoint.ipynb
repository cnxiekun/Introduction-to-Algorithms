{
 "cells": [
  {
   "cell_type": "markdown",
   "metadata": {
    "deletable": true,
    "editable": true
   },
   "source": [
    "# 算法基础"
   ]
  },
  {
   "cell_type": "markdown",
   "metadata": {
    "deletable": true,
    "editable": true
   },
   "source": [
    "## 插入排序"
   ]
  },
  {
   "cell_type": "markdown",
   "metadata": {
    "deletable": true,
    "editable": true
   },
   "source": [
    "**输入**: $n$个数的一个序列$<a_1, a_2, \\cdots, a_n>$  \n",
    "**输出**: 输入序列的一个排列$<a_1{'}, a_2^{'}, \\cdots, a_n^{'}>$，满足$a_1^{'} \\leq a_2^{'} \\leq \\cdots \\leq a_n^{'}$"
   ]
  },
  {
   "cell_type": "code",
   "execution_count": 1,
   "metadata": {
    "collapsed": true,
    "deletable": true,
    "editable": true
   },
   "outputs": [],
   "source": [
    "def insertSort(aList):\n",
    "    for j in range(1, len(aList)):\n",
    "        key = aList[j]\n",
    "        # insert aList[j] into the sorted sequence: aList[0, 1, ..., j-1]\n",
    "        i = j - 1\n",
    "        while i >= 0 and aList[i] > key:\n",
    "            aList[i+1] = aList[i]\n",
    "            i -= 1\n",
    "        aList[i+1] = key"
   ]
  },
  {
   "cell_type": "code",
   "execution_count": 2,
   "metadata": {
    "collapsed": false,
    "deletable": true,
    "editable": true
   },
   "outputs": [
    {
     "name": "stdout",
     "output_type": "stream",
     "text": [
      "[1, 2, 3, 4, 5, 6]\n"
     ]
    }
   ],
   "source": [
    "aList = [5, 2, 4, 6, 1, 3]\n",
    "insertSort(aList)\n",
    "print aList"
   ]
  },
  {
   "cell_type": "markdown",
   "metadata": {
    "deletable": true,
    "editable": true
   },
   "source": [
    "### Exercise 2.1-4\n",
    "考虑把两个$n$位二进制整数相加，结果存储在一个$(n+1)$元数组中"
   ]
  },
  {
   "cell_type": "code",
   "execution_count": 3,
   "metadata": {
    "collapsed": true,
    "deletable": true,
    "editable": true
   },
   "outputs": [],
   "source": [
    "def addBinary(A, B):\n",
    "    n = len(A)\n",
    "    C = [0] * (n+1)\n",
    "    carry = 0\n",
    "    for i in range(n-1, -1, -1):\n",
    "        C[i+1] = (A[i] + B[i] + carry) % 2\n",
    "        carry = (A[i] + B[i] + carry) / 2\n",
    "    C[0] = carry\n",
    "    if C[0] == 0:\n",
    "        return C[1:]\n",
    "    return C"
   ]
  },
  {
   "cell_type": "code",
   "execution_count": 4,
   "metadata": {
    "collapsed": false,
    "deletable": true,
    "editable": true
   },
   "outputs": [
    {
     "name": "stdout",
     "output_type": "stream",
     "text": [
      "[1, 1]\n"
     ]
    }
   ],
   "source": [
    "print addBinary([1,0], [0,1])"
   ]
  },
  {
   "cell_type": "markdown",
   "metadata": {
    "deletable": true,
    "editable": true
   },
   "source": [
    "## 分而治之 -- 归并排序"
   ]
  },
  {
   "cell_type": "code",
   "execution_count": 5,
   "metadata": {
    "collapsed": true,
    "deletable": true,
    "editable": true
   },
   "outputs": [],
   "source": [
    "def merge(A, p, q, r):\n",
    "    \"\"\"L, R 是已排序好的两个lsit，现在合并两者\"\"\"\n",
    "    L = A[p: q+1]\n",
    "    R = A[q+1:r+1]\n",
    "    # 每个 list 底部添加一个‘哨兵’--正无穷大，避免判断是否溢出\n",
    "    L.append(float(\"Inf\"))\n",
    "    R.append(float(\"Inf\"))\n",
    "    i = 0\n",
    "    j = 0\n",
    "    for k in range(p, r+1):\n",
    "        if L[i] <= R[j]:\n",
    "            A[k] = L[i]\n",
    "            i += 1\n",
    "        else:\n",
    "            A[k] = R[j]\n",
    "            j += 1"
   ]
  },
  {
   "cell_type": "code",
   "execution_count": 6,
   "metadata": {
    "collapsed": true,
    "deletable": true,
    "editable": true
   },
   "outputs": [],
   "source": [
    "def mergeSort(A, p, r):\n",
    "    if p < r:\n",
    "        q = (p + r) / 2\n",
    "        mergeSort(A, p, q)\n",
    "        mergeSort(A, q+1, r)\n",
    "        merge(A, p, q, r)"
   ]
  },
  {
   "cell_type": "code",
   "execution_count": 7,
   "metadata": {
    "collapsed": false,
    "deletable": true,
    "editable": true
   },
   "outputs": [
    {
     "name": "stdout",
     "output_type": "stream",
     "text": [
      "[1, 2, 3, 4, 5, 6]\n"
     ]
    }
   ],
   "source": [
    "aList = [5, 2, 4, 6, 1, 3]\n",
    "mergeSort(aList, 0, len(aList)-1)\n",
    "print aList"
   ]
  },
  {
   "cell_type": "markdown",
   "metadata": {
    "deletable": true,
    "editable": true
   },
   "source": [
    "### 思考题 2-2 冒泡排序"
   ]
  },
  {
   "cell_type": "code",
   "execution_count": 8,
   "metadata": {
    "collapsed": true
   },
   "outputs": [],
   "source": [
    "def bubbleSort(A):\n",
    "    for i in range(len(A)-2):\n",
    "        for j in range(len(A)-1, i, -1):\n",
    "            if A[j] < A[j-1]:\n",
    "                A[j], A[j-1] = A[j-1], A[j]"
   ]
  },
  {
   "cell_type": "code",
   "execution_count": 9,
   "metadata": {
    "collapsed": false
   },
   "outputs": [
    {
     "name": "stdout",
     "output_type": "stream",
     "text": [
      "[1, 2, 3, 4, 5, 6]\n"
     ]
    }
   ],
   "source": [
    "aList = [5, 2, 4, 6, 1, 3]\n",
    "bubbleSort(aList)\n",
    "print aList"
   ]
  },
  {
   "cell_type": "markdown",
   "metadata": {
    "deletable": true,
    "editable": true
   },
   "source": [
    "### 思考题 2-3 Horner 规则\n",
    "\n",
    "$$P(x) = \\sum_{k=0}^{n} a_k x^{k} = a_0 + x(a_1 + x(a_2 + \\cdots + x(a_{n-1} + xa_n) \\cdots))$$"
   ]
  },
  {
   "cell_type": "code",
   "execution_count": 10,
   "metadata": {
    "collapsed": true,
    "deletable": true,
    "editable": true
   },
   "outputs": [],
   "source": [
    "def hornerSeries(A, x):\n",
    "    \"\"\"O(n), much faster than traditional method\"\"\"\n",
    "    y = 0\n",
    "    for i in range(len(A)-1, -1, -1):\n",
    "        y = A[i] + x * y\n",
    "    return y"
   ]
  },
  {
   "cell_type": "markdown",
   "metadata": {},
   "source": [
    "### 思考题 2-4 逆序对\n",
    "假定$A[1..n]$是一个有$n$个不同数的数组。若$i<j$且$A[i]>A[j]$，则对偶$(i,j)$成为$A$的一个**逆序对**(inversion)。"
   ]
  },
  {
   "cell_type": "code",
   "execution_count": 11,
   "metadata": {
    "collapsed": true
   },
   "outputs": [],
   "source": [
    "def mergeInversions(A, p, q, r):\n",
    "    L = A[p:q+1]\n",
    "    R = A[q+1:r+1]\n",
    "    i = 0\n",
    "    j = 0\n",
    "    k = p\n",
    "    inversions = 0\n",
    "    while i < len(L) and j < len(R):\n",
    "        if L[i] < R[j]:\n",
    "            A[k] = L[i]\n",
    "            i += 1\n",
    "            k += 1\n",
    "        else:\n",
    "            A[k] = R[j]\n",
    "            j += 1\n",
    "            k += 1\n",
    "            inversions += len(L) - i\n",
    "    if j == len(R):\n",
    "        A[k:r+1] = L[i:]\n",
    "    return inversions"
   ]
  },
  {
   "cell_type": "code",
   "execution_count": 12,
   "metadata": {
    "collapsed": true
   },
   "outputs": [],
   "source": [
    "def mergeSortInversions(A, p, r):\n",
    "    inversions = 0\n",
    "    if p < r:\n",
    "        q = (p + r) / 2\n",
    "        inversions += mergeSortInversions(A, p, q)\n",
    "        inversions += mergeSortInversions(A, q+1, r)\n",
    "        inversions += mergeInversions(A, p, q, r)\n",
    "    return inversions"
   ]
  },
  {
   "cell_type": "code",
   "execution_count": 13,
   "metadata": {
    "collapsed": false
   },
   "outputs": [
    {
     "name": "stdout",
     "output_type": "stream",
     "text": [
      "[1, 2, 3, 6, 8] 5\n"
     ]
    }
   ],
   "source": [
    "aList = [2, 3, 8, 6, 1]\n",
    "inversions = mergeSortInversions(aList, 0, len(aList)-1)\n",
    "print aList, inversions"
   ]
  },
  {
   "cell_type": "code",
   "execution_count": null,
   "metadata": {
    "collapsed": true
   },
   "outputs": [],
   "source": []
  }
 ],
 "metadata": {
  "kernelspec": {
   "display_name": "Python 2",
   "language": "python",
   "name": "python2"
  },
  "language_info": {
   "codemirror_mode": {
    "name": "ipython",
    "version": 2
   },
   "file_extension": ".py",
   "mimetype": "text/x-python",
   "name": "python",
   "nbconvert_exporter": "python",
   "pygments_lexer": "ipython2",
   "version": "2.7.5"
  }
 },
 "nbformat": 4,
 "nbformat_minor": 2
}
