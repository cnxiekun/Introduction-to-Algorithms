{
 "cells": [
  {
   "cell_type": "markdown",
   "metadata": {},
   "source": [
    "# 分治策略 -- Divide and Conquer"
   ]
  },
  {
   "cell_type": "markdown",
   "metadata": {},
   "source": [
    "## 最大子数组问题 -- Maximum Subarray\n",
    "假定我们要寻找子数组$A[low..high]$的最大子数组"
   ]
  },
  {
   "cell_type": "code",
   "execution_count": 1,
   "metadata": {
    "collapsed": true
   },
   "outputs": [],
   "source": [
    "def findMaxCrossingSubarray(A, low, mid, high):\n",
    "    left_sum = -float(\"Inf\")\n",
    "    max_sum = 0\n",
    "    for i in range(mid, low-1, -1):\n",
    "        max_sum += A[i]\n",
    "        if max_sum > left_sum:\n",
    "            left_sum = max_sum\n",
    "            max_left = i\n",
    "    right_sum = -float(\"Inf\")\n",
    "    max_sum = 0\n",
    "    for j in range(mid+1, high+1):\n",
    "        max_sum += A[j]\n",
    "        if max_sum > right_sum:\n",
    "            right_sum = max_sum\n",
    "            max_right = j\n",
    "    return max_left, max_right, left_sum + right_sum"
   ]
  },
  {
   "cell_type": "code",
   "execution_count": 2,
   "metadata": {
    "collapsed": true
   },
   "outputs": [],
   "source": [
    "def findMaximumSubarray(A, low, high):\n",
    "    \"\"\"By default: low <= high\"\"\"\n",
    "    if high == low:\n",
    "        return low, high, A[low]  # base case: only one element\n",
    "    mid = (low + high) / 2\n",
    "    left_low, left_high, left_sum = findMaximumSubarray(A, low, mid)\n",
    "    right_low, right_high, right_sum = findMaximumSubarray(A, mid+1, high)\n",
    "    cross_low, cross_high, cross_sum = findMaxCrossingSubarray(A, low, mid, high)\n",
    "    if left_sum >= right_sum and left_sum >= cross_sum:\n",
    "        return left_low, left_high, left_sum\n",
    "    elif right_sum >= left_sum and right_sum >= cross_sum:\n",
    "        return right_low, right_high, right_sum\n",
    "    return cross_low, cross_high, cross_sum"
   ]
  },
  {
   "cell_type": "code",
   "execution_count": 3,
   "metadata": {
    "collapsed": false
   },
   "outputs": [
    {
     "name": "stdout",
     "output_type": "stream",
     "text": [
      "7 10 43\n"
     ]
    }
   ],
   "source": [
    "aList = [13, -3, -25, 20, -3, -16, -23, 18, 20, -7, 12, -5, -22, 15, -4, 7]\n",
    "max_low, max_high, max_sum = findMaximumSubarray(aList, 0, len(aList)-1)\n",
    "print max_low, max_high, max_sum"
   ]
  },
  {
   "cell_type": "markdown",
   "metadata": {},
   "source": [
    "### 非递归、线性时间内求解最大子数组问题"
   ]
  },
  {
   "cell_type": "code",
   "execution_count": 4,
   "metadata": {
    "collapsed": true
   },
   "outputs": [],
   "source": [
    "def maximumSubarray(A, low, high):\n",
    "    \"\"\"By default: low <= high\"\"\"\n",
    "    if high == low:\n",
    "        return low, high, A[low]  # base case: only one element\n",
    "    maxSumEndWithJ = [None] * (high - low + 1)\n",
    "    maxSumEndWithJ[0] = A[low]\n",
    "    # need to update max_left differently!!!\n",
    "    maxSumEndWithJLeft = [None] * (high - low + 1)\n",
    "    maxSumEndWithJLeft[0] = low\n",
    "    max_left = maxSumEndWithJLeft[0]\n",
    "    max_right = low\n",
    "    max_sum = A[low]\n",
    "    for j in range(low+1, high+1):\n",
    "        maxSumEndWithJ[j] = max(maxSumEndWithJ[j-1] + A[j], A[j])\n",
    "        if maxSumEndWithJ[j] == A[j]:\n",
    "            maxSumEndWithJLeft[j] = j\n",
    "        else:\n",
    "            maxSumEndWithJLeft[j] = maxSumEndWithJLeft[j-1]\n",
    "        if maxSumEndWithJ[j] > max_sum:\n",
    "            max_left = maxSumEndWithJLeft[j]\n",
    "            max_right = j\n",
    "            max_sum = maxSumEndWithJ[j]\n",
    "    return max_left, max_right, max_sum"
   ]
  },
  {
   "cell_type": "code",
   "execution_count": 5,
   "metadata": {
    "collapsed": false
   },
   "outputs": [
    {
     "name": "stdout",
     "output_type": "stream",
     "text": [
      "7 10 43\n"
     ]
    }
   ],
   "source": [
    "aList = [13, -3, -25, 20, -3, -16, -23, 18, 20, -7, 12, -5, -22, 15, -4, 7]\n",
    "max_low, max_high, max_sum = maximumSubarray(aList, 0, len(aList)-1)\n",
    "print max_low, max_high, max_sum"
   ]
  },
  {
   "cell_type": "markdown",
   "metadata": {},
   "source": [
    "## 矩阵乘法的 Strassen 算法\n",
    "$A, B$是$n \\times n$的方阵，求解两者乘积$C = A \\cdot B$  \n",
    "暴力解法 v.s. Divide and Conquer v.s. Strassen 方法"
   ]
  },
  {
   "cell_type": "code",
   "execution_count": 6,
   "metadata": {
    "collapsed": true
   },
   "outputs": [],
   "source": [
    "def squareMatrixMultiply(A, B):\n",
    "    n = len(A)\n",
    "    C = [[0 for x in range(n)] for y in range(n)]\n",
    "    for i in range(n):\n",
    "        for j in range(n):\n",
    "            for k in range(n):\n",
    "                C[i][j] += A[i][k] * B[k][j]\n",
    "    return C"
   ]
  },
  {
   "cell_type": "code",
   "execution_count": 7,
   "metadata": {
    "collapsed": false
   },
   "outputs": [
    {
     "name": "stdout",
     "output_type": "stream",
     "text": [
      "[[18, 14], [62, 66]]\n"
     ]
    }
   ],
   "source": [
    "A = [[1, 3], [7, 5]]\n",
    "B = [[6, 8], [4, 2]]\n",
    "C = squareMatrixMultiply(A, B)\n",
    "print C"
   ]
  },
  {
   "cell_type": "code",
   "execution_count": 8,
   "metadata": {
    "collapsed": true
   },
   "outputs": [],
   "source": [
    "# using numpy to deal with matrix is much much more efficient!!!\n",
    "import numpy as np\n",
    "\n",
    "def squareMatrixMultiplyRecursive(A, B):\n",
    "    A = np.array(A)\n",
    "    B = np.array(B)\n",
    "    n = len(A)\n",
    "    C = np.array([[0 for x in range(n)] for y in range(n)])\n",
    "    if n == 1:\n",
    "        C[0][0] = A[0][0] * B[0][0]\n",
    "        return C\n",
    "    A00 = A[:n/2, :n/2]\n",
    "    A01 = A[:n/2, n/2:]\n",
    "    A10 = A[n/2:, :n/2]\n",
    "    A11 = A[n/2:, n/2:]\n",
    "    B00 = B[:n/2, :n/2]\n",
    "    B01 = B[:n/2, n/2:]\n",
    "    B10 = B[n/2:, :n/2]\n",
    "    B11 = B[n/2:, n/2:]\n",
    "    C00 = squareMatrixMultiplyRecursive(A00, B00) + squareMatrixMultiplyRecursive(A01, B10)\n",
    "    C01 = squareMatrixMultiplyRecursive(A00, B01) + squareMatrixMultiplyRecursive(A01, B11)\n",
    "    C10 = squareMatrixMultiplyRecursive(A10, B00) + squareMatrixMultiplyRecursive(A11, B10)\n",
    "    C11 = squareMatrixMultiplyRecursive(A10, B01) + squareMatrixMultiplyRecursive(A11, B11)\n",
    "    C[:n/2, :n/2] = C00\n",
    "    C[:n/2, n/2:] = C01\n",
    "    C[n/2:, :n/2] = C10\n",
    "    C[n/2:, n/2:] = C11\n",
    "    return C.tolist()"
   ]
  },
  {
   "cell_type": "code",
   "execution_count": 9,
   "metadata": {
    "collapsed": false
   },
   "outputs": [
    {
     "name": "stdout",
     "output_type": "stream",
     "text": [
      "[[18, 14], [62, 66]]\n"
     ]
    }
   ],
   "source": [
    "A = [[1, 3], [7, 5]]\n",
    "B = [[6, 8], [4, 2]]\n",
    "C = squareMatrixMultiplyRecursive(A, B)\n",
    "print C"
   ]
  },
  {
   "cell_type": "markdown",
   "metadata": {},
   "source": [
    "关于 Strassen 矩阵乘法，请参考 [Strassen Algorithm](https://en.wikipedia.org/wiki/Strassen_algorithm)"
   ]
  },
  {
   "cell_type": "code",
   "execution_count": null,
   "metadata": {
    "collapsed": true
   },
   "outputs": [],
   "source": []
  }
 ],
 "metadata": {
  "kernelspec": {
   "display_name": "Python 2",
   "language": "python",
   "name": "python2"
  },
  "language_info": {
   "codemirror_mode": {
    "name": "ipython",
    "version": 2
   },
   "file_extension": ".py",
   "mimetype": "text/x-python",
   "name": "python",
   "nbconvert_exporter": "python",
   "pygments_lexer": "ipython2",
   "version": "2.7.5"
  }
 },
 "nbformat": 4,
 "nbformat_minor": 2
}
